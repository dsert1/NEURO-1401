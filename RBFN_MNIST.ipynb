{
 "cells": [
  {
   "cell_type": "markdown",
   "metadata": {},
   "source": [
    "# 08_NN_MNIST"
   ]
  },
  {
   "cell_type": "code",
   "execution_count": 1,
   "metadata": {
    "ExecuteTime": {
     "end_time": "2017-09-16T13:20:30.345325Z",
     "start_time": "2017-09-16T13:20:29.860841Z"
    }
   },
   "outputs": [
    {
     "data": {
      "text/plain": [
       "<torch._C.Generator at 0x7fdab404c390>"
      ]
     },
     "execution_count": 1,
     "metadata": {},
     "output_type": "execute_result"
    }
   ],
   "source": [
    "# Pytorch Library\n",
    "import torch\n",
    "import torch.nn.init\n",
    "import torch.nn as nn\n",
    "from torch.autograd import Variable\n",
    "\n",
    "torch.manual_seed(777)  # reproducibility"
   ]
  },
  {
   "cell_type": "code",
   "execution_count": 2,
   "metadata": {
    "ExecuteTime": {
     "end_time": "2017-09-16T13:20:30.414079Z",
     "start_time": "2017-09-16T13:20:30.347965Z"
    },
    "collapsed": true
   },
   "outputs": [],
   "source": [
    "import torchvision.utils as utils\n",
    "import torchvision.datasets as dsets\n",
    "import torchvision.transforms as transforms"
   ]
  },
  {
   "cell_type": "code",
   "execution_count": 3,
   "metadata": {
    "ExecuteTime": {
     "end_time": "2017-09-16T13:20:30.725501Z",
     "start_time": "2017-09-16T13:20:30.491419Z"
    },
    "collapsed": true
   },
   "outputs": [],
   "source": [
    "# Other Python Library\n",
    "%matplotlib inline\n",
    "import matplotlib.pyplot as plt\n",
    "import numpy as np\n",
    "import random"
   ]
  },
  {
   "cell_type": "markdown",
   "metadata": {},
   "source": [
    "### Loading MNIST dataset"
   ]
  },
  {
   "cell_type": "code",
   "execution_count": 4,
   "metadata": {
    "ExecuteTime": {
     "end_time": "2017-09-16T13:20:31.247585Z",
     "start_time": "2017-09-16T13:20:31.208482Z"
    },
    "collapsed": true
   },
   "outputs": [],
   "source": [
    "# MNIST dataset\n",
    "mnist_train = dsets.MNIST(root='data/',\n",
    "                          train=True,\n",
    "                          transform=transforms.ToTensor(),\n",
    "                          download=True)\n",
    "\n",
    "mnist_test = dsets.MNIST(root='data/',\n",
    "                         train=False,\n",
    "                         transform=transforms.ToTensor(),\n",
    "                         download=True)"
   ]
  },
  {
   "cell_type": "code",
   "execution_count": 5,
   "metadata": {
    "ExecuteTime": {
     "end_time": "2017-09-16T13:20:32.112067Z",
     "start_time": "2017-09-16T13:20:31.901653Z"
    }
   },
   "outputs": [
    {
     "name": "stdout",
     "output_type": "stream",
     "text": [
      "torch.Size([60000, 28, 28])\n",
      "torch.Size([60000])\n"
     ]
    },
    {
     "data": {
      "text/plain": [
       "<matplotlib.text.Text at 0x7fdac0285f28>"
      ]
     },
     "execution_count": 5,
     "metadata": {},
     "output_type": "execute_result"
    },
    {
     "data": {
      "image/png": "[encoded data removed]",
      "text/plain": [
       "<matplotlib.figure.Figure at 0x7fdac02aa908>"
      ]
     },
     "metadata": {},
     "output_type": "display_data"
    }
   ],
   "source": [
    "# plot one example\n",
    "print(mnist_train.train_data.size())                 # (60000, 28, 28)\n",
    "print(mnist_train.train_labels.size())               # (60000)\n",
    "\n",
    "idx = 0\n",
    "plt.imshow(mnist_train.train_data[idx,:,:].numpy(), cmap='gray')\n",
    "plt.title('%i' % mnist_train.train_labels[idx])"
   ]
  },
  {
   "cell_type": "markdown",
   "metadata": {},
   "source": [
    "### Data Loader (= 전체 Data를 쪼개서 Batch Size 단위로 불러 오는 역할)"
   ]
  },
  {
   "cell_type": "code",
   "execution_count": 7,
   "metadata": {
    "ExecuteTime": {
     "end_time": "2017-09-16T13:20:37.941959Z",
     "start_time": "2017-09-16T13:20:37.935016Z"
    },
    "collapsed": true
   },
   "outputs": [],
   "source": [
    "# Hyper-parameters\n",
    "batch_size = 3000\n",
    "# dataset loader\n",
    "data_loader = torch.utils.data.DataLoader(dataset=mnist_train,\n",
    "                                          batch_size=batch_size,\n",
    "                                          shuffle=True,\n",
    "                                          num_workers=1)"
   ]
  },
  {
   "cell_type": "code",
   "execution_count": 8,
   "metadata": {
    "ExecuteTime": {
     "end_time": "2017-09-16T13:20:39.140814Z",
     "start_time": "2017-09-16T13:20:38.405482Z"
    }
   },
   "outputs": [
    {
     "name": "stdout",
     "output_type": "stream",
     "text": [
      "torch.Size([3000, 1, 28, 28])\n",
      "torch.Size([3000])\n"
     ]
    },
    {
     "data": {
      "image/png": "[encoded data removed]",
      "text/plain": [
       "<matplotlib.figure.Figure at 0x7fdac0270470>"
      ]
     },
     "metadata": {},
     "output_type": "display_data"
    },
    {
     "data": {
      "text/plain": [
       "array([4, 1, 6, ..., 4, 0, 5])"
      ]
     },
     "execution_count": 8,
     "metadata": {},
     "output_type": "execute_result"
    }
   ],
   "source": [
    "def imshow(img):\n",
    "    img = img / 2 + 0.5     # unnormalize\n",
    "    npimg = img.numpy()\n",
    "    plt.imshow(np.transpose(npimg, (1, 2, 0)))\n",
    "    plt.show()\n",
    "\n",
    "# #예를 들어서.. data_loader로 부터 데이터 뭉치를 하나만 불러 오자\n",
    "batch_images, batch_labels = next(iter(data_loader))\n",
    "\n",
    "print(batch_images.size())\n",
    "print(batch_labels.size())\n",
    "\n",
    "# show images and print labels\n",
    "imshow(utils.make_grid(batch_images))\n",
    "batch_labels.numpy()\n",
    "\n",
    "# 실제 사용 예시 for loop를 이용해서 image와 label을 읽어 온다.\n",
    "# for batch_images, batch_labels in data_loader:\n",
    "#     print(img.size())\n",
    "#     print(label)\n",
    "\n",
    "#enumerate를 사용하는 경우 image와 label을 읽는 것 뿐만 아니라 iter도 같이 계산\n",
    "# for i, (batch_images, batch_labels) in enumerate(data_loader):\n",
    "#     print(batch_images.size())\n",
    "#     print(batch_labels)"
   ]
  },
  {
   "cell_type": "code",
   "execution_count": 9,
   "metadata": {
    "ExecuteTime": {
     "end_time": "2017-09-16T13:20:39.149321Z",
     "start_time": "2017-09-16T13:20:39.142864Z"
    }
   },
   "outputs": [
    {
     "data": {
      "text/plain": [
       "8.3733829179633457"
      ]
     },
     "execution_count": 9,
     "metadata": {},
     "output_type": "execute_result"
    }
   ],
   "source": [
    "type(batch_images)\n",
    "import numpy as np\n",
    "np.sqrt((batch_images[0,] - batch_images[6,] ).pow(2).sum())"
   ]
  },
  {
   "cell_type": "markdown",
   "metadata": {},
   "source": [
    "### Define Neural Network Model"
   ]
  },
  {
   "cell_type": "code",
   "execution_count": 10,
   "metadata": {
    "ExecuteTime": {
     "end_time": "2017-09-16T13:20:42.563548Z",
     "start_time": "2017-09-16T13:20:39.902764Z"
    }
   },
   "outputs": [
    {
     "name": "stdout",
     "output_type": "stream",
     "text": [
      "RbfNet (\n",
      "  (linear): Linear (3000 -> 10)\n",
      ")\n"
     ]
    }
   ],
   "source": [
    "class RbfNet(nn.Module):\n",
    "    def __init__(self, centers, num_class=10):\n",
    "        super(RbfNet, self).__init__()\n",
    "        self.centers = centers\n",
    "        self.num_centers = centers.size(0)\n",
    "        self.num_class = num_class\n",
    "    \n",
    "        self.linear = torch.nn.Linear(self.num_centers, self.num_class, bias=True)\n",
    "        self.beta = nn.Parameter(torch.ones(1,self.num_centers)/10)\n",
    "\n",
    "    def radial_fun(self, batches):\n",
    "        n_input = batches.size(0) # number of inputs\n",
    "        A = self.centers.view(self.num_centers,-1).repeat(n_input,1,1)\n",
    "        B = batches.view(n_input,-1).unsqueeze(1).repeat(1,self.num_centers,1)\n",
    "        C = torch.exp(-self.beta.mul((A-B).pow(2).sum(2,keepdim=False).sqrt() ) )\n",
    "        return C\n",
    "    \n",
    "    def forward(self, batches):\n",
    "        radial_val = self.radial_fun(batches)\n",
    "        class_score = self.linear(radial_val)\n",
    "        return class_score\n",
    "\n",
    "\n",
    "centers = batch_images\n",
    "#centers = torch.rand(1000,28*28)\n",
    "model = RbfNet(Variable(centers.cuda()), num_class=10)\n",
    " \n",
    "model.cuda()\n",
    "\n",
    "#model.load_state_dict(torch.load('NN.pkl'))  # Load the Trained Model\n",
    "print(model)"
   ]
  },
  {
   "cell_type": "code",
   "execution_count": 11,
   "metadata": {
    "ExecuteTime": {
     "end_time": "2017-09-16T13:20:42.573020Z",
     "start_time": "2017-09-16T13:20:42.566844Z"
    }
   },
   "outputs": [
    {
     "data": {
      "text/plain": [
       "torch.Size([3000, 1, 28, 28])"
      ]
     },
     "execution_count": 11,
     "metadata": {},
     "output_type": "execute_result"
    }
   ],
   "source": [
    "centers.size()"
   ]
  },
  {
   "cell_type": "code",
   "execution_count": 12,
   "metadata": {
    "ExecuteTime": {
     "end_time": "2017-09-16T13:20:43.368876Z",
     "start_time": "2017-09-16T13:20:43.356931Z"
    }
   },
   "outputs": [
    {
     "name": "stdout",
     "output_type": "stream",
     "text": [
      "Parameter containing:\n",
      " 0.1000  0.1000  0.1000  ...   0.1000  0.1000  0.1000\n",
      "[torch.cuda.FloatTensor of size 1x3000 (GPU 0)]\n",
      "\n",
      "Parameter containing:\n",
      " 6.1721e-03 -1.0911e-02 -1.2007e-02  ...   1.9036e-03  1.7342e-02  9.8540e-03\n",
      "-1.0860e-02  1.7958e-02 -6.9733e-03  ...  -1.2285e-02  1.1715e-02 -1.3497e-02\n",
      " 1.0219e-02 -3.8969e-03 -9.9665e-04  ...   1.5645e-03  6.1913e-03  1.3493e-02\n",
      "                ...                   ⋱                   ...                \n",
      "-6.1587e-03  1.0285e-02 -1.4230e-02  ...  -8.5106e-03 -1.5129e-02  5.6613e-03\n",
      "-1.7507e-02 -1.3444e-02 -1.2294e-02  ...  -3.7234e-03  9.8994e-03  1.6329e-02\n",
      "-1.5913e-02  8.7634e-03 -1.8199e-02  ...  -1.2718e-02  1.2614e-02  3.5766e-03\n",
      "[torch.cuda.FloatTensor of size 10x3000 (GPU 0)]\n",
      "\n",
      "Parameter containing:\n",
      "1.00000e-02 *\n",
      "  1.0994\n",
      " -1.6152\n",
      "  0.8603\n",
      "  1.7463\n",
      " -0.1176\n",
      "  0.7831\n",
      "  0.2706\n",
      " -1.6637\n",
      "  0.8689\n",
      "  1.4076\n",
      "[torch.cuda.FloatTensor of size 10 (GPU 0)]\n",
      "\n"
     ]
    }
   ],
   "source": [
    "for parameter in model.parameters():\n",
    "    print(parameter) \n",
    "    \n",
    "#model.load_state_dict(torch.load('NN.pkl')) "
   ]
  },
  {
   "cell_type": "code",
   "execution_count": 13,
   "metadata": {
    "ExecuteTime": {
     "end_time": "2017-09-16T13:20:43.580718Z",
     "start_time": "2017-09-16T13:20:43.574127Z"
    },
    "collapsed": true
   },
   "outputs": [],
   "source": [
    "# Hyper-parameters\n",
    "batch_size = 150\n",
    "# dataset loader\n",
    "data_loader = torch.utils.data.DataLoader(dataset=mnist_train,\n",
    "                                          batch_size=batch_size,\n",
    "                                          shuffle=True,\n",
    "                                          num_workers=4)\n"
   ]
  },
  {
   "cell_type": "code",
   "execution_count": 14,
   "metadata": {
    "ExecuteTime": {
     "end_time": "2017-09-16T13:20:44.318770Z",
     "start_time": "2017-09-16T13:20:43.822982Z"
    }
   },
   "outputs": [
    {
     "data": {
      "text/plain": [
       "Variable containing:\n",
       "-0.0360  0.2700 -0.2152  ...   0.1751 -0.0054  0.1743\n",
       "-0.0227  0.2793 -0.2067  ...   0.1456  0.0239  0.1143\n",
       "-0.0374  0.2703 -0.2241  ...   0.1452  0.0258  0.1127\n",
       "          ...             ⋱             ...          \n",
       "-0.0093  0.2430 -0.1860  ...   0.1443  0.0357  0.0831\n",
       "-0.0116  0.2663 -0.1878  ...   0.1160  0.0358  0.1098\n",
       "-0.0253  0.2802 -0.1791  ...   0.1362 -0.0096  0.1107\n",
       "[torch.cuda.FloatTensor of size 150x10 (GPU 0)]"
      ]
     },
     "execution_count": 14,
     "metadata": {},
     "output_type": "execute_result"
    }
   ],
   "source": [
    "#for _ in range(10):\n",
    "batch_images, batch_labels = next(iter(data_loader))\n",
    "model(Variable(batch_images.cuda(), requires_grad=False))"
   ]
  },
  {
   "cell_type": "markdown",
   "metadata": {},
   "source": [
    "### Cost 함수 정의"
   ]
  },
  {
   "cell_type": "code",
   "execution_count": 15,
   "metadata": {
    "ExecuteTime": {
     "end_time": "2017-09-16T13:20:44.527175Z",
     "start_time": "2017-09-16T13:20:44.522233Z"
    },
    "collapsed": true
   },
   "outputs": [],
   "source": [
    "# Softmax 함수가 Cost를 계산할 때 내장되어 있다.\n",
    "cost_func = torch.nn.CrossEntropyLoss()    "
   ]
  },
  {
   "cell_type": "markdown",
   "metadata": {},
   "source": [
    "### Model 학습"
   ]
  },
  {
   "cell_type": "code",
   "execution_count": null,
   "metadata": {
    "ExecuteTime": {
     "start_time": "2017-09-16T13:24:44.489Z"
    }
   },
   "outputs": [
    {
     "name": "stdout",
     "output_type": "stream",
     "text": [
      "[Epoch:    1] cost = 1.20566511\n",
      "[Epoch:    2] cost = 0.511912048\n",
      "[Epoch:    3] cost = 0.442301959\n",
      "[Epoch:    4] cost = 0.403429091\n",
      "[Epoch:    5] cost = 0.379295021\n",
      "[Epoch:    6] cost = 0.358320385\n",
      "[Epoch:    7] cost = 0.337369591\n",
      "[Epoch:    8] cost = 0.329559326\n",
      "[Epoch:    9] cost = 0.324487895\n",
      "[Epoch:   10] cost = 0.305682033\n",
      "[Epoch:   11] cost = 0.301581651\n",
      "[Epoch:   12] cost = 0.285979122\n",
      "[Epoch:   13] cost = 0.287023187\n",
      "[Epoch:   14] cost = 0.274200559\n",
      "[Epoch:   15] cost = 0.266997248\n",
      "[Epoch:   16] cost = 0.26618138\n",
      "[Epoch:   17] cost = 0.267345041\n",
      "[Epoch:   18] cost = 0.254716784\n",
      "[Epoch:   19] cost = 0.243363231\n",
      "[Epoch:   20] cost = 0.24887237\n",
      "[Epoch:   21] cost = 0.241127446\n",
      "[Epoch:   22] cost = 0.2332986\n",
      "[Epoch:   23] cost = 0.235295102\n",
      "[Epoch:   24] cost = 0.224552915\n",
      "[Epoch:   25] cost = 0.226922065\n",
      "[Epoch:   26] cost = 0.222697884\n",
      "[Epoch:   27] cost = 0.222331896\n",
      "[Epoch:   28] cost = 0.214291126\n",
      "[Epoch:   29] cost = 0.21221523\n",
      "[Epoch:   30] cost = 0.212063432\n",
      "[Epoch:   31] cost = 0.210365966\n",
      "[Epoch:   32] cost = 0.210659832\n",
      "[Epoch:   33] cost = 0.20967555\n",
      "[Epoch:   34] cost = 0.200133458\n",
      "[Epoch:   35] cost = 0.201444954\n",
      "[Epoch:   36] cost = 0.196319625\n",
      "[Epoch:   37] cost = 0.202814713\n",
      "[Epoch:   38] cost = 0.19189702\n",
      "[Epoch:   39] cost = 0.194286183\n",
      "[Epoch:   40] cost = 0.19041051\n",
      "[Epoch:   41] cost = 0.190453455\n"
     ]
    }
   ],
   "source": [
    "# Hyper-parameters\n",
    "learning_rate = 0.01 \n",
    "training_epochs = 100\n",
    "\n",
    "# Adam Optimizer\n",
    "optimizer = torch.optim.Adam(model.parameters(), lr=learning_rate)\n",
    "\n",
    "# Train model\n",
    "for epoch in range(training_epochs):\n",
    "    avg_cost = 0\n",
    "    total_batch = len(mnist_train) // batch_size\n",
    "\n",
    "    for i, (batch_images, batch_labels) in enumerate(data_loader):\n",
    "        \n",
    "        # 이미지를 [batch_size x 784] size 행렬로 변환\n",
    "        \n",
    "        X = Variable(batch_images.view(-1, 28 * 28)).cuda()\n",
    "        Y = Variable(batch_labels).cuda()        # label is not one-hot encoded\n",
    "\n",
    "        optimizer.zero_grad()             # Zero Gradient Container\n",
    "        Y_prediction = model(X)           # Forward Propagation\n",
    "        cost = cost_func(Y_prediction, Y) # compute cost\n",
    "        cost.backward()                   # compute gradient\n",
    "        optimizer.step()                  # gradient update\n",
    "\n",
    "        avg_cost += cost / total_batch\n",
    "\n",
    "    print(\"[Epoch: {:>4}] cost = {:>.9}\".format(epoch + 1, avg_cost.data[0]))\n",
    "\n",
    "print('Learning Finished!')\n",
    "torch.save(model.state_dict(), 'NN.pkl')  # Save the Model"
   ]
  },
  {
   "cell_type": "code",
   "execution_count": 15,
   "metadata": {
    "ExecuteTime": {
     "end_time": "2017-08-07T06:40:06.003112Z",
     "start_time": "2017-08-07T06:41:33.928Z"
    }
   },
   "outputs": [
    {
     "data": {
      "text/plain": [
       "OrderedDict([('beta', \n",
       "               0.2166  0.2861  0.2769  ...   0.2473  0.1988  0.1221\n",
       "              [torch.cuda.FloatTensor of size 1x5000 (GPU 0)]),\n",
       "             ('linear.weight', \n",
       "              -3.7569e-02 -3.6120e-01  3.8630e-01  ...   3.5091e-01 -2.1983e-01  7.4422e-02\n",
       "              -2.9959e-01  6.0009e-01 -3.6100e-01  ...  -2.9455e-01 -5.9414e-02  1.2984e-01\n",
       "               2.1883e-01 -3.4451e-01  6.8182e-02  ...  -1.0338e-01 -1.4275e-01 -1.1496e-01\n",
       "                              ...                   ⋱                   ...                \n",
       "              -6.3282e-02  6.9182e-02 -3.1164e-01  ...  -2.9166e-01  4.3582e-02  3.0526e-01\n",
       "              -2.7239e-02 -5.3782e-02 -1.2934e-01  ...  -1.1819e-01 -1.2814e-01 -1.8660e-01\n",
       "              -1.2194e-01  6.0939e-02 -2.4678e-01  ...  -4.3307e-01 -2.3870e-01 -5.5325e-02\n",
       "              [torch.cuda.FloatTensor of size 10x5000 (GPU 0)]),\n",
       "             ('linear.bias', \n",
       "               0.0258\n",
       "               0.3024\n",
       "              -0.0371\n",
       "               0.0442\n",
       "              -0.0058\n",
       "               0.1398\n",
       "              -0.0591\n",
       "               0.1860\n",
       "              -0.3369\n",
       "              -0.0770\n",
       "              [torch.cuda.FloatTensor of size 10 (GPU 0)])])"
      ]
     },
     "execution_count": 15,
     "metadata": {},
     "output_type": "execute_result"
    }
   ],
   "source": [
    "model.state_dict()"
   ]
  },
  {
   "cell_type": "markdown",
   "metadata": {},
   "source": [
    "### Test Dataset 이용한 모형 성능 측정"
   ]
  },
  {
   "cell_type": "code",
   "execution_count": 139,
   "metadata": {
    "ExecuteTime": {
     "end_time": "2017-08-07T06:40:06.004090Z",
     "start_time": "2017-08-07T06:41:35.101Z"
    }
   },
   "outputs": [
    {
     "name": "stdout",
     "output_type": "stream",
     "text": [
      "Accuracy of the network on the 10000 test images: 53 %\n"
     ]
    }
   ],
   "source": [
    "# Test the Model\n",
    "correct = 0\n",
    "total = 0\n",
    "for images, labels in mnist_test:\n",
    "    images = Variable(images.view(-1, 28*28)).cuda()\n",
    "    outputs = model(images)\n",
    "    _, predicted = torch.max(outputs.data, 1)\n",
    "    total += 1\n",
    "    correct += (predicted == labels).sum()\n",
    "\n",
    "print('Accuracy of the network on the 10000 test images: %d %%' % (100 * correct / total))"
   ]
  },
  {
   "cell_type": "markdown",
   "metadata": {},
   "source": [
    "### Random Sample Test"
   ]
  },
  {
   "cell_type": "code",
   "execution_count": 126,
   "metadata": {
    "ExecuteTime": {
     "end_time": "2017-08-07T06:40:06.004925Z",
     "start_time": "2017-08-07T06:41:36.197Z"
    }
   },
   "outputs": [
    {
     "name": "stdout",
     "output_type": "stream",
     "text": [
      "Label:  \n",
      " 9\n",
      "[torch.cuda.LongTensor of size 1 (GPU 0)]\n",
      "\n",
      "Prediction:  \n",
      " 9\n",
      "[torch.cuda.LongTensor of size 1 (GPU 0)]\n",
      "\n"
     ]
    },
    {
     "data": {
      "image/png": "[encoded data removed]",
      "text/plain": [
       "<matplotlib.figure.Figure at 0x7f56e03131d0>"
      ]
     },
     "metadata": {},
     "output_type": "display_data"
    }
   ],
   "source": [
    "# Get one and predict\n",
    "r = random.randint(0, len(mnist_test) - 1)\n",
    "X_single_data = Variable(mnist_test.test_data[r:r + 1].view(-1, 28 * 28).float().div(255)).cuda()\n",
    "Y_single_data = Variable(mnist_test.test_labels[r:r + 1]).cuda()\n",
    "single_prediction = model(X_single_data)\n",
    "plt.imshow(X_single_data.cpu().data.view(28,28).numpy() , cmap='gray')\n",
    "\n",
    "print(\"Label: \", Y_single_data.data)\n",
    "print(\"Prediction: \", torch.max(single_prediction.data, 1)[1])"
   ]
  },
  {
   "cell_type": "code",
   "execution_count": 52,
   "metadata": {
    "ExecuteTime": {
     "end_time": "2017-08-07T06:40:06.006199Z",
     "start_time": "2017-08-07T06:41:37.130Z"
    }
   },
   "outputs": [
    {
     "ename": "TypeError",
     "evalue": "'RbfNet' object does not support indexing",
     "output_type": "error",
     "traceback": [
      "\u001b[0;31m--------------------------------------------------------\u001b[0m",
      "\u001b[0;31mTypeError\u001b[0m              Traceback (most recent call last)",
      "\u001b[0;32m<ipython-input-52-a319cb2a5318>\u001b[0m in \u001b[0;36m<module>\u001b[0;34m()\u001b[0m\n\u001b[1;32m      1\u001b[0m \u001b[0;32mfor\u001b[0m \u001b[0mi\u001b[0m \u001b[0;32min\u001b[0m \u001b[0mrange\u001b[0m\u001b[0;34m(\u001b[0m\u001b[0;36m20\u001b[0m\u001b[0;34m)\u001b[0m\u001b[0;34m:\u001b[0m\u001b[0;34m\u001b[0m\u001b[0m\n\u001b[0;32m----> 2\u001b[0;31m     \u001b[0mweight\u001b[0m \u001b[0;34m=\u001b[0m \u001b[0mmodel\u001b[0m\u001b[0;34m[\u001b[0m\u001b[0;36m0\u001b[0m\u001b[0;34m]\u001b[0m\u001b[0;34m.\u001b[0m\u001b[0mweight\u001b[0m\u001b[0;34m[\u001b[0m\u001b[0mi\u001b[0m\u001b[0;34m,\u001b[0m\u001b[0;34m:\u001b[0m\u001b[0;34m]\u001b[0m\u001b[0;34m.\u001b[0m\u001b[0mdata\u001b[0m\u001b[0;34m.\u001b[0m\u001b[0mview\u001b[0m\u001b[0;34m(\u001b[0m\u001b[0;36m28\u001b[0m\u001b[0;34m,\u001b[0m\u001b[0;36m28\u001b[0m\u001b[0;34m)\u001b[0m\u001b[0;34m\u001b[0m\u001b[0m\n\u001b[0m\u001b[1;32m      3\u001b[0m     \u001b[0mweight\u001b[0m \u001b[0;34m=\u001b[0m \u001b[0;34m(\u001b[0m\u001b[0mweight\u001b[0m \u001b[0;34m-\u001b[0m \u001b[0mtorch\u001b[0m\u001b[0;34m.\u001b[0m\u001b[0mmin\u001b[0m\u001b[0;34m(\u001b[0m\u001b[0mweight\u001b[0m\u001b[0;34m)\u001b[0m\u001b[0;34m)\u001b[0m\u001b[0;34m/\u001b[0m\u001b[0;34m(\u001b[0m\u001b[0mtorch\u001b[0m\u001b[0;34m.\u001b[0m\u001b[0mmax\u001b[0m\u001b[0;34m(\u001b[0m\u001b[0mweight\u001b[0m\u001b[0;34m)\u001b[0m\u001b[0;34m-\u001b[0m\u001b[0mtorch\u001b[0m\u001b[0;34m.\u001b[0m\u001b[0mmin\u001b[0m\u001b[0;34m(\u001b[0m\u001b[0mweight\u001b[0m\u001b[0;34m)\u001b[0m\u001b[0;34m)\u001b[0m\u001b[0;34m\u001b[0m\u001b[0m\n\u001b[1;32m      4\u001b[0m     \u001b[0mplt\u001b[0m\u001b[0;34m.\u001b[0m\u001b[0mimshow\u001b[0m\u001b[0;34m(\u001b[0m \u001b[0mweight\u001b[0m\u001b[0;34m.\u001b[0m\u001b[0mnumpy\u001b[0m\u001b[0;34m(\u001b[0m\u001b[0;34m)\u001b[0m\u001b[0;34m,\u001b[0m \u001b[0mcmap\u001b[0m\u001b[0;34m=\u001b[0m\u001b[0;34m'gray'\u001b[0m\u001b[0;34m)\u001b[0m\u001b[0;34m\u001b[0m\u001b[0m\n\u001b[1;32m      5\u001b[0m     \u001b[0mplt\u001b[0m\u001b[0;34m.\u001b[0m\u001b[0mshow\u001b[0m\u001b[0;34m(\u001b[0m\u001b[0;34m)\u001b[0m\u001b[0;34m\u001b[0m\u001b[0m\n",
      "\u001b[0;31mTypeError\u001b[0m: 'RbfNet' object does not support indexing"
     ]
    }
   ],
   "source": [
    "for i in range(20):\n",
    "    weight = model[0].weight[i,:].data.view(28,28) \n",
    "    weight = (weight - torch.min(weight))/(torch.max(weight)-torch.min(weight))\n",
    "    plt.imshow( weight.numpy(), cmap='gray')\n",
    "    plt.show()"
   ]
  },
  {
   "cell_type": "code",
   "execution_count": null,
   "metadata": {
    "collapsed": true
   },
   "outputs": [],
   "source": []
  }
 ],
 "metadata": {
  "kernelspec": {
   "display_name": "Python [default]",
   "language": "python",
   "name": "python3"
  },
  "language_info": {
   "codemirror_mode": {
    "name": "ipython",
    "version": 3
   },
   "file_extension": ".py",
   "mimetype": "text/x-python",
   "name": "python",
   "nbconvert_exporter": "python",
   "pygments_lexer": "ipython3",
   "version": "3.6.2"
  }
 },
 "nbformat": 4,
 "nbformat_minor": 2
}
